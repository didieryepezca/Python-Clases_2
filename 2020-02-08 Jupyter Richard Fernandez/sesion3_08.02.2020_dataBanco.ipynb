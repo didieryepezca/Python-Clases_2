{
 "cells": [
  {
   "cell_type": "code",
   "execution_count": 2,
   "metadata": {},
   "outputs": [
    {
     "name": "stdout",
     "output_type": "stream",
     "text": [
      "Directorio actual de trabajo:  D:\\CERTIFIED BIG DATA DEVELOPER\\2020-02-08 Jupyter Richard Fernandez\n"
     ]
    },
    {
     "data": {
      "text/html": [
       "<div>\n",
       "<style scoped>\n",
       "    .dataframe tbody tr th:only-of-type {\n",
       "        vertical-align: middle;\n",
       "    }\n",
       "\n",
       "    .dataframe tbody tr th {\n",
       "        vertical-align: top;\n",
       "    }\n",
       "\n",
       "    .dataframe thead th {\n",
       "        text-align: right;\n",
       "    }\n",
       "</style>\n",
       "<table border=\"1\" class=\"dataframe\">\n",
       "  <thead>\n",
       "    <tr style=\"text-align: right;\">\n",
       "      <th></th>\n",
       "      <th>id</th>\n",
       "      <th>genero</th>\n",
       "      <th>nacimiento</th>\n",
       "      <th>educacion</th>\n",
       "      <th>catempleado</th>\n",
       "      <th>salario_act</th>\n",
       "      <th>salario_ini</th>\n",
       "      <th>tiempo</th>\n",
       "      <th>experiencia</th>\n",
       "      <th>edad</th>\n",
       "      <th>FAC1_2</th>\n",
       "      <th>FAC2_2</th>\n",
       "      <th>FAC3_2</th>\n",
       "    </tr>\n",
       "  </thead>\n",
       "  <tbody>\n",
       "    <tr>\n",
       "      <td>0</td>\n",
       "      <td>1</td>\n",
       "      <td>m</td>\n",
       "      <td>2/3/1952</td>\n",
       "      <td>15</td>\n",
       "      <td>3</td>\n",
       "      <td>57000</td>\n",
       "      <td>27000</td>\n",
       "      <td>98</td>\n",
       "      <td>144</td>\n",
       "      <td>45.939726</td>\n",
       "      <td>0.835173</td>\n",
       "      <td>1.267890</td>\n",
       "      <td>1.537784</td>\n",
       "    </tr>\n",
       "    <tr>\n",
       "      <td>1</td>\n",
       "      <td>2</td>\n",
       "      <td>m</td>\n",
       "      <td>5/23/1958</td>\n",
       "      <td>16</td>\n",
       "      <td>1</td>\n",
       "      <td>40200</td>\n",
       "      <td>18750</td>\n",
       "      <td>98</td>\n",
       "      <td>36</td>\n",
       "      <td>39.635616</td>\n",
       "      <td>0.453766</td>\n",
       "      <td>-0.048328</td>\n",
       "      <td>1.686612</td>\n",
       "    </tr>\n",
       "    <tr>\n",
       "      <td>2</td>\n",
       "      <td>3</td>\n",
       "      <td>f</td>\n",
       "      <td>7/26/1929</td>\n",
       "      <td>12</td>\n",
       "      <td>1</td>\n",
       "      <td>21450</td>\n",
       "      <td>12000</td>\n",
       "      <td>98</td>\n",
       "      <td>381</td>\n",
       "      <td>68.479452</td>\n",
       "      <td>-2.028703</td>\n",
       "      <td>1.856789</td>\n",
       "      <td>1.533692</td>\n",
       "    </tr>\n",
       "    <tr>\n",
       "      <td>3</td>\n",
       "      <td>4</td>\n",
       "      <td>f</td>\n",
       "      <td>4/15/1947</td>\n",
       "      <td>8</td>\n",
       "      <td>1</td>\n",
       "      <td>21900</td>\n",
       "      <td>13200</td>\n",
       "      <td>98</td>\n",
       "      <td>190</td>\n",
       "      <td>50.747945</td>\n",
       "      <td>-0.986556</td>\n",
       "      <td>0.467888</td>\n",
       "      <td>1.635631</td>\n",
       "    </tr>\n",
       "    <tr>\n",
       "      <td>4</td>\n",
       "      <td>5</td>\n",
       "      <td>m</td>\n",
       "      <td>2/9/1955</td>\n",
       "      <td>15</td>\n",
       "      <td>1</td>\n",
       "      <td>45000</td>\n",
       "      <td>21000</td>\n",
       "      <td>98</td>\n",
       "      <td>138</td>\n",
       "      <td>42.920548</td>\n",
       "      <td>0.327710</td>\n",
       "      <td>0.678118</td>\n",
       "      <td>1.599954</td>\n",
       "    </tr>\n",
       "  </tbody>\n",
       "</table>\n",
       "</div>"
      ],
      "text/plain": [
       "   id genero nacimiento  educacion  catempleado  salario_act  salario_ini  \\\n",
       "0   1      m   2/3/1952         15            3        57000        27000   \n",
       "1   2      m  5/23/1958         16            1        40200        18750   \n",
       "2   3      f  7/26/1929         12            1        21450        12000   \n",
       "3   4      f  4/15/1947          8            1        21900        13200   \n",
       "4   5      m   2/9/1955         15            1        45000        21000   \n",
       "\n",
       "   tiempo  experiencia       edad    FAC1_2    FAC2_2    FAC3_2  \n",
       "0      98          144  45.939726  0.835173  1.267890  1.537784  \n",
       "1      98           36  39.635616  0.453766 -0.048328  1.686612  \n",
       "2      98          381  68.479452 -2.028703  1.856789  1.533692  \n",
       "3      98          190  50.747945 -0.986556  0.467888  1.635631  \n",
       "4      98          138  42.920548  0.327710  0.678118  1.599954  "
      ]
     },
     "execution_count": 2,
     "metadata": {},
     "output_type": "execute_result"
    }
   ],
   "source": [
    "import os as os\n",
    "import pandas as pd\n",
    "import numpy as np\n",
    "import seaborn as sns\n",
    "import matplotlib.pyplot as plt\n",
    "\n",
    "print(\"Directorio actual de trabajo: \", os.getcwd())\n",
    "\n",
    "df = pd.read_csv(\"banco.csv\", sep = \",\")\n",
    "df.head()"
   ]
  },
  {
   "cell_type": "code",
   "execution_count": 3,
   "metadata": {},
   "outputs": [
    {
     "data": {
      "text/plain": [
       "array([[<matplotlib.axes._subplots.AxesSubplot object at 0x00000289F79D73C8>,\n",
       "        <matplotlib.axes._subplots.AxesSubplot object at 0x00000289F8F61A88>,\n",
       "        <matplotlib.axes._subplots.AxesSubplot object at 0x00000289F8F9D888>],\n",
       "       [<matplotlib.axes._subplots.AxesSubplot object at 0x00000289F8FD5988>,\n",
       "        <matplotlib.axes._subplots.AxesSubplot object at 0x00000289F900FAC8>,\n",
       "        <matplotlib.axes._subplots.AxesSubplot object at 0x00000289F9047BC8>],\n",
       "       [<matplotlib.axes._subplots.AxesSubplot object at 0x00000289F907EC48>,\n",
       "        <matplotlib.axes._subplots.AxesSubplot object at 0x00000289F90B5D88>,\n",
       "        <matplotlib.axes._subplots.AxesSubplot object at 0x00000289F90C1988>],\n",
       "       [<matplotlib.axes._subplots.AxesSubplot object at 0x00000289F90F8B08>,\n",
       "        <matplotlib.axes._subplots.AxesSubplot object at 0x00000289F91610C8>,\n",
       "        <matplotlib.axes._subplots.AxesSubplot object at 0x00000289F919A148>]],\n",
       "      dtype=object)"
      ]
     },
     "execution_count": 3,
     "metadata": {},
     "output_type": "execute_result"
    },
    {
     "data": {
      "image/png": "[encoded data removed]",
      "text/plain": [
       "<Figure size 432x288 with 12 Axes>"
      ]
     },
     "metadata": {
      "needs_background": "light"
     },
     "output_type": "display_data"
    }
   ],
   "source": [
    "df.hist()"
   ]
  }
 ],
 "metadata": {
  "kernelspec": {
   "display_name": "Python 3",
   "language": "python",
   "name": "python3"
  },
  "language_info": {
   "codemirror_mode": {
    "name": "ipython",
    "version": 3
   },
   "file_extension": ".py",
   "mimetype": "text/x-python",
   "name": "python",
   "nbconvert_exporter": "python",
   "pygments_lexer": "ipython3",
   "version": "3.7.4"
  }
 },
 "nbformat": 4,
 "nbformat_minor": 2
}
